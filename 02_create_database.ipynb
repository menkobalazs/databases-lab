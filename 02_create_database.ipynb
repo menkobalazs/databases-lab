{
 "cells": [
  {
   "cell_type": "markdown",
   "id": "45762e56",
   "metadata": {},
   "source": [
    "# Inferring Photometric Redshifts from Multichannel Images\n",
    "## Balázs Menkó (O67UT7)\n",
    "### Supervisor: Pál, Balázs \n",
    "\n",
    "---\n",
    "\n",
    "# Create Database"
   ]
  },
  {
   "cell_type": "code",
   "execution_count": 1,
   "id": "a8461e3a",
   "metadata": {},
   "outputs": [],
   "source": [
    "# Number of pictures in the database:\n",
    "NUM_IMAGES = 10000 # maximum=19589\n",
    "UPLOAD_BATCH = 50\n",
    "\n",
    "from utils import *"
   ]
  },
  {
   "cell_type": "markdown",
   "id": "9ec73123",
   "metadata": {},
   "source": [
    "# Create `redshift` table "
   ]
  },
  {
   "cell_type": "markdown",
   "id": "df7903f1",
   "metadata": {},
   "source": [
    "```python\n",
    "connection = connect_from_settings(pgsql_settings)\n",
    "cursor = connection.cursor()\n",
    "cursor.execute(\"\"\"\n",
    "    CREATE TABLE IF NOT EXISTS redshift (\n",
    "        index INT PRIMARY KEY,\n",
    "        specObjID BIGINT,\n",
    "        ra FLOAT,\n",
    "        dec FLOAT,\n",
    "        z FLOAT,\n",
    "        zErr FLOAT,\n",
    "        velDisp FLOAT,\n",
    "        velDispErr FLOAT,\n",
    "        picture INT[]);\n",
    "\"\"\")\n",
    "connection.commit()\n",
    "cursor.close()\n",
    "connection.close()\n",
    "```"
   ]
  },
  {
   "cell_type": "code",
   "execution_count": 2,
   "id": "f8049e3f",
   "metadata": {},
   "outputs": [
    {
     "name": "stdout",
     "output_type": "stream",
     "text": [
      "MAX_IDX=10000\n"
     ]
    }
   ],
   "source": [
    "### Find the last object ID which has been uploaded to the database\n",
    "\n",
    "try: # for first try the database is empty \n",
    "    MAX_IDX = int(run_query(\"SELECT COUNT(index) FROM redshift\").iloc[0,0])\n",
    "except:\n",
    "    MAX_IDX=0\n",
    "print(f'MAX_IDX={MAX_IDX}')\n",
    "\n",
    "specObjID_csv = pd.read_csv('specObjIDs.csv', names=['ids'])\n",
    "\n",
    "ids_to_save = tuple(specObjID_csv['ids'][MAX_IDX:MAX_IDX+UPLOAD_BATCH].tolist())"
   ]
  },
  {
   "cell_type": "markdown",
   "id": "a723c88a",
   "metadata": {},
   "source": [
    "## Querry object ID, radial and declensional degree and redshift parameter ($z$)"
   ]
  },
  {
   "cell_type": "code",
   "execution_count": 3,
   "id": "c7afaed6",
   "metadata": {},
   "outputs": [],
   "source": [
    "results = SDSS.query_sql(f\"\"\"\n",
    "    SELECT specobjid As specObjID, ra, dec, z, zErr, velDisp, velDispErr\n",
    "    FROM SpecObj\n",
    "    WHERE specobjid IN {ids_to_save}\n",
    "\"\"\")\n",
    "df = results.to_pandas()"
   ]
  },
  {
   "cell_type": "markdown",
   "id": "6e74eb76",
   "metadata": {},
   "source": [
    "## Download images for given coordinate pairs"
   ]
  },
  {
   "cell_type": "code",
   "execution_count": 4,
   "id": "65ba4c15",
   "metadata": {
    "scrolled": true
   },
   "outputs": [],
   "source": [
    "if MAX_IDX < NUM_IMAGES:\n",
    "    data = [\n",
    "        (index+MAX_IDX, row['specObjID'], row['ra'], row['dec'],\n",
    "         row['z'], row['zErr'], row['velDisp']/1000, row['velDispErr']/1000,\n",
    "         get_sdss_image(row['ra'], row['dec'], size=IMG_SIZE)\n",
    "        )\n",
    "        for index, row in tqdm(df.iterrows(), total=UPLOAD_BATCH, desc=\"Processing\")\n",
    "    ]"
   ]
  },
  {
   "cell_type": "markdown",
   "id": "c4641c50",
   "metadata": {},
   "source": [
    "## Upload data to `postgres-datasci.db-test` server"
   ]
  },
  {
   "cell_type": "code",
   "execution_count": 5,
   "id": "ad2d5ba4",
   "metadata": {},
   "outputs": [],
   "source": [
    "if MAX_IDX < NUM_IMAGES:\n",
    "    connection = connect_from_settings(pgsql_settings)\n",
    "    cursor = connection.cursor()\n",
    "    cursor.executemany(\"\"\"\n",
    "        INSERT INTO redshift (index, specObjID, ra, dec, z, zErr, velDisp, velDispErr, picture)\n",
    "        VALUES (%s, %s, %s, %s, %s, %s, %s, %s, %s)\n",
    "        ON CONFLICT (index) DO NOTHING;\n",
    "    \"\"\", data)\n",
    "    connection.commit()\n",
    "    cursor.close()\n",
    "    connection.close()"
   ]
  },
  {
   "cell_type": "markdown",
   "id": "36d9059f",
   "metadata": {},
   "source": [
    "# Combined downloading an uploading"
   ]
  },
  {
   "cell_type": "code",
   "execution_count": 6,
   "id": "0fd3c20f",
   "metadata": {},
   "outputs": [
    {
     "name": "stdout",
     "output_type": "stream",
     "text": [
      "10000/10000 records have been added to the database yet.\r"
     ]
    }
   ],
   "source": [
    "MAX_IDX = int(run_query(\"SELECT COUNT(index) FROM redshift\").iloc[0,0])\n",
    "while MAX_IDX < NUM_IMAGES:\n",
    "    clear_output(wait=True)  # Clear the output\n",
    "    print(f'{MAX_IDX}/{NUM_IMAGES} records have been added to the database yet.', end='\\r')\n",
    "    ## Get the next 50 ids\n",
    "    ids_to_save = tuple(specObjID_csv['ids'][MAX_IDX:MAX_IDX+UPLOAD_BATCH].tolist())    \n",
    "\n",
    "    ## Get the next 50 datapoints from SDSS dataset\n",
    "    results = SDSS.query_sql(f\"\"\"\n",
    "        SELECT specObjID, ra, dec, z\n",
    "        FROM SpecObj\n",
    "        WHERE specObjID IN {ids_to_save}\n",
    "    \"\"\")\n",
    "    \n",
    "    ## Generate a list for uploading data\n",
    "    data = [\n",
    "        (index+MAX_IDX, row['specObjID'], row['ra'], row['dec'],\n",
    "        row['z'], row['zErr'], row['velDisp']/1000, row['velDispErr']/1000,\n",
    "        get_sdss_image(row['ra'], row['dec'], size=IMG_SIZE)\n",
    "        )\n",
    "        for index, row in tqdm(df.iterrows(), total=UPLOAD_BATCH, desc=\"Processing\")\n",
    "    ]\n",
    "    \n",
    "    ## Uploading data into the database\n",
    "    connection = connect_from_settings(pgsql_settings)\n",
    "    cursor = connection.cursor()\n",
    "    cursor.executemany(\"\"\"\n",
    "        INSERT INTO redshift (index, specObjID, ra, dec, z, zErr, velDisp, velDispErr, picture)\n",
    "        VALUES (%s, %s, %s, %s, %s, %s, %s, %s, %s)\n",
    "        ON CONFLICT (index) DO NOTHING;\n",
    "    \"\"\", data)\n",
    "    connection.commit()\n",
    "    cursor.close()\n",
    "    connection.close()\n",
    "\n",
    "    ### Reset MAX_IDX\n",
    "    MAX_IDX = int(run_query(\"SELECT COUNT(index) FROM redshift\").iloc[0,0])   \n",
    "\n",
    "    ### End of the loop\n",
    "    \n",
    "clear_output(wait=True)  # Clear the output   \n",
    "print(f'{MAX_IDX}/{NUM_IMAGES} records have been added to the database yet.', end='\\r')"
   ]
  }
 ],
 "metadata": {
  "kernelspec": {
   "display_name": "Python [conda env:base] *",
   "language": "python",
   "name": "conda-base-py"
  },
  "language_info": {
   "codemirror_mode": {
    "name": "ipython",
    "version": 3
   },
   "file_extension": ".py",
   "mimetype": "text/x-python",
   "name": "python",
   "nbconvert_exporter": "python",
   "pygments_lexer": "ipython3",
   "version": "3.12.2"
  }
 },
 "nbformat": 4,
 "nbformat_minor": 5
}
