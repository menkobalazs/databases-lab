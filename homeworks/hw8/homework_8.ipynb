{
 "cells": [
  {
   "cell_type": "markdown",
   "metadata": {},
   "source": [
    "# Homework 8. - SciServer\n",
    "## Balázs Menkó (O67UT7)\n",
    "---\n",
    "These assignments aims to serve as a practical introduction to the SciServer infrastructure and its basic operation, with an exclusive focus on astronomy databases.\n",
    "\n",
    "There will be tasks that you'll need to solve on the SciServer and tasks that you'll need to solve in Python. It will be specified for each of them. Always use the latest data release of SDSS (DR18 currently)."
   ]
  },
  {
   "cell_type": "code",
   "execution_count": 1,
   "metadata": {},
   "outputs": [],
   "source": [
    "# packages\n",
    "import pandas as pd\n",
    "import matplotlib.pyplot as plt\n",
    "plt.style.use('dark_background')\n",
    "\n",
    "from SciServer import CasJobs\n",
    "\n",
    "context = 'DR18'"
   ]
  },
  {
   "cell_type": "markdown",
   "metadata": {},
   "source": [
    "---\n",
    "# Task 1 - SOLVE ON THE SCISERVER.\n",
    "- Write an SQL query to retrieve a list of 1000 galaxies within a specified range of redshift values. Join the SpecObj and Galaxy views on the specObjID column and retrieve the ID, the redshift and the Petrosian U, G, R, I, Z magnitudes from the database, along with their corresponding errors. The redshift range should be 0.1 < z < 0.7.\n",
    "- In CasJobs's \"MyDB\" menu, select your newly acquired data set and using SciServer's built-on \"Plot\" method, plot the redshifts as the function of one of the color magnitudes.\n",
    "- Upload the plot here! If it looks terrible, then good job! It should. Welcome to SciServer's plot functionality."
   ]
  },
  {
   "cell_type": "code",
   "execution_count": 2,
   "metadata": {},
   "outputs": [
    {
     "data": {
      "text/html": [
       "<div>\n",
       "<style scoped>\n",
       "    .dataframe tbody tr th:only-of-type {\n",
       "        vertical-align: middle;\n",
       "    }\n",
       "\n",
       "    .dataframe tbody tr th {\n",
       "        vertical-align: top;\n",
       "    }\n",
       "\n",
       "    .dataframe thead th {\n",
       "        text-align: right;\n",
       "    }\n",
       "</style>\n",
       "<table border=\"1\" class=\"dataframe\">\n",
       "  <thead>\n",
       "    <tr style=\"text-align: right;\">\n",
       "      <th></th>\n",
       "      <th>specObjID</th>\n",
       "      <th>z</th>\n",
       "      <th>Petrosian_U</th>\n",
       "      <th>Petrosian_U_Error</th>\n",
       "      <th>Petrosian_G</th>\n",
       "      <th>Petrosian_G_Error</th>\n",
       "      <th>Petrosian_R</th>\n",
       "      <th>Petrosian_R_Error</th>\n",
       "      <th>Petrosian_I</th>\n",
       "      <th>Petrosian_I_Error</th>\n",
       "      <th>Petrosian_Z</th>\n",
       "      <th>Petrosian_Z_Error</th>\n",
       "    </tr>\n",
       "  </thead>\n",
       "  <tbody>\n",
       "    <tr>\n",
       "      <th>0</th>\n",
       "      <td>3244891160862287872</td>\n",
       "      <td>0.390180</td>\n",
       "      <td>26.13397</td>\n",
       "      <td>2.546697</td>\n",
       "      <td>20.62688</td>\n",
       "      <td>0.123726</td>\n",
       "      <td>18.61670</td>\n",
       "      <td>0.032733</td>\n",
       "      <td>17.91093</td>\n",
       "      <td>0.029389</td>\n",
       "      <td>17.54589</td>\n",
       "      <td>0.074108</td>\n",
       "    </tr>\n",
       "    <tr>\n",
       "      <th>1</th>\n",
       "      <td>570851908089047040</td>\n",
       "      <td>0.323714</td>\n",
       "      <td>21.79632</td>\n",
       "      <td>0.679018</td>\n",
       "      <td>20.27013</td>\n",
       "      <td>0.075895</td>\n",
       "      <td>18.55832</td>\n",
       "      <td>0.025424</td>\n",
       "      <td>18.02636</td>\n",
       "      <td>0.024481</td>\n",
       "      <td>17.75954</td>\n",
       "      <td>0.080693</td>\n",
       "    </tr>\n",
       "    <tr>\n",
       "      <th>2</th>\n",
       "      <td>570998967769262080</td>\n",
       "      <td>0.260545</td>\n",
       "      <td>20.22713</td>\n",
       "      <td>0.183865</td>\n",
       "      <td>19.74677</td>\n",
       "      <td>0.050139</td>\n",
       "      <td>18.87206</td>\n",
       "      <td>0.035945</td>\n",
       "      <td>18.43069</td>\n",
       "      <td>0.039688</td>\n",
       "      <td>18.06709</td>\n",
       "      <td>0.108748</td>\n",
       "    </tr>\n",
       "    <tr>\n",
       "      <th>3</th>\n",
       "      <td>651897734554478592</td>\n",
       "      <td>0.405631</td>\n",
       "      <td>23.99024</td>\n",
       "      <td>3.721098</td>\n",
       "      <td>21.66186</td>\n",
       "      <td>0.234174</td>\n",
       "      <td>20.11797</td>\n",
       "      <td>0.092823</td>\n",
       "      <td>19.37312</td>\n",
       "      <td>0.092258</td>\n",
       "      <td>18.89541</td>\n",
       "      <td>0.197431</td>\n",
       "    </tr>\n",
       "    <tr>\n",
       "      <th>4</th>\n",
       "      <td>570845585897187328</td>\n",
       "      <td>0.174030</td>\n",
       "      <td>19.84205</td>\n",
       "      <td>0.118376</td>\n",
       "      <td>18.37600</td>\n",
       "      <td>0.017619</td>\n",
       "      <td>17.36030</td>\n",
       "      <td>0.011789</td>\n",
       "      <td>16.89404</td>\n",
       "      <td>0.012130</td>\n",
       "      <td>16.56335</td>\n",
       "      <td>0.032509</td>\n",
       "    </tr>\n",
       "  </tbody>\n",
       "</table>\n",
       "</div>"
      ],
      "text/plain": [
       "             specObjID         z  Petrosian_U  Petrosian_U_Error  Petrosian_G  \\\n",
       "0  3244891160862287872  0.390180     26.13397           2.546697     20.62688   \n",
       "1   570851908089047040  0.323714     21.79632           0.679018     20.27013   \n",
       "2   570998967769262080  0.260545     20.22713           0.183865     19.74677   \n",
       "3   651897734554478592  0.405631     23.99024           3.721098     21.66186   \n",
       "4   570845585897187328  0.174030     19.84205           0.118376     18.37600   \n",
       "\n",
       "   Petrosian_G_Error  Petrosian_R  Petrosian_R_Error  Petrosian_I  \\\n",
       "0           0.123726     18.61670           0.032733     17.91093   \n",
       "1           0.075895     18.55832           0.025424     18.02636   \n",
       "2           0.050139     18.87206           0.035945     18.43069   \n",
       "3           0.234174     20.11797           0.092823     19.37312   \n",
       "4           0.017619     17.36030           0.011789     16.89404   \n",
       "\n",
       "   Petrosian_I_Error  Petrosian_Z  Petrosian_Z_Error  \n",
       "0           0.029389     17.54589           0.074108  \n",
       "1           0.024481     17.75954           0.080693  \n",
       "2           0.039688     18.06709           0.108748  \n",
       "3           0.092258     18.89541           0.197431  \n",
       "4           0.012130     16.56335           0.032509  "
      ]
     },
     "execution_count": 2,
     "metadata": {},
     "output_type": "execute_result"
    }
   ],
   "source": [
    "df1 = CasJobs.executeQuery(sql='''\n",
    "    SELECT TOP 1000\n",
    "        s.specObjID,\n",
    "        s.z,\n",
    "        g.petroMag_u AS Petrosian_U,\n",
    "        g.petroMagErr_u AS Petrosian_U_Error,\n",
    "        g.petroMag_g AS Petrosian_G,\n",
    "        g.petroMagErr_g AS Petrosian_G_Error,\n",
    "        g.petroMag_r AS Petrosian_R,\n",
    "        g.petroMagErr_r AS Petrosian_R_Error,\n",
    "        g.petroMag_i AS Petrosian_I,\n",
    "        g.petroMagErr_i AS Petrosian_I_Error,\n",
    "        g.petroMag_z AS Petrosian_Z,\n",
    "        g.petroMagErr_z AS Petrosian_Z_Error\n",
    "    --INTO -- needed only once\n",
    "      --  MyDB\n",
    "    FROM Galaxy g\n",
    "    JOIN\n",
    "        SpecObj s ON s.specObjID = g.specObjID\n",
    "    WHERE\n",
    "        g.clean=1\n",
    "        AND s.z BETWEEN 0.1 AND 0.7\n",
    "''', context=context, format='pandas')\n",
    "df1.head()"
   ]
  },
  {
   "cell_type": "markdown",
   "metadata": {},
   "source": [
    "Created figure of the `redshifts` as the function of `Petrosian G` magnitudes using SciServer's built-on \"Plot\" method. \n",
    "\n",
    "<img src=\"z_vs_Petrosian_G.png\" alt=\"z_vs_Petrosian_G.png\" width=\"500\" />\n",
    "\n"
   ]
  },
  {
   "cell_type": "markdown",
   "metadata": {},
   "source": [
    "---\n",
    "# Task 2 - SOLVE IN PYTHON.\n",
    "- Download the Petrosian magnitudes of 10000 galaxies in the redshift range 0.01 < z < 0.06, using the SciServer's Python API. Remove outliers and use only galaxies, where `g-r` (subtract `r` magnitudes from `g`) is between -0.1 and 1.1!\n",
    "- Create the 2D density plot of objects in the space of `g` on the x-axis and `g-r` on the y-axis.\n",
    "- Upload the final plot here!\n",
    "- Can you notice any correlation/separation/structure in the data? If yes, then please describe! Compare with [this Wikipedia article](https://en.wikipedia.org/wiki/Galaxy_color%E2%80%93magnitude_diagram)."
   ]
  },
  {
   "cell_type": "code",
   "execution_count": 3,
   "metadata": {},
   "outputs": [
    {
     "name": "stdout",
     "output_type": "stream",
     "text": [
      "CPU times: user 133 ms, sys: 48.7 ms, total: 182 ms\n",
      "Wall time: 1.42 s\n"
     ]
    }
   ],
   "source": [
    "%%time\n",
    "df2 = CasJobs.executeQuery(sql='''\n",
    "    SELECT TOP 30000 -- instead of 10k due to a better plot\n",
    "        s.specObjID,\n",
    "        g.petroMag_g AS g,\n",
    "        g.petroMag_g - g.petroMag_r AS g_r_diff\n",
    "    FROM Galaxy g\n",
    "    JOIN\n",
    "        SpecObj s ON s.specObjID = g.specObjID\n",
    "    WHERE\n",
    "        g.clean=1\n",
    "        AND s.z BETWEEN 0.01 AND 0.06\n",
    "        AND g.petroMag_g - g.petroMag_r BETWEEN -0.1 AND 1.1\n",
    "''', context=context, format='pandas')"
   ]
  },
  {
   "cell_type": "code",
   "execution_count": 4,
   "metadata": {},
   "outputs": [
    {
     "data": {
      "image/png": "[encoded data removed]",
      "text/plain": [
       "<Figure size 576x432 with 2 Axes>"
      ]
     },
     "metadata": {},
     "output_type": "display_data"
    }
   ],
   "source": [
    "plt.figure(figsize=(8,6))\n",
    "hist = plt.hist2d(df2.g, df2.g_r_diff, bins=200, cmap='magma')\n",
    "plt.colorbar(hist[3], label='Density')\n",
    "plt.title('Density plot', fontsize=18)\n",
    "plt.xlabel(r'$g$', fontsize=15)\n",
    "plt.ylabel(r'$g-r$', fontsize=15)\n",
    "plt.show()"
   ]
  },
  {
   "cell_type": "markdown",
   "metadata": {},
   "source": [
    "The two main cluster (`red sequence` and `blue cloud`) also visible on the above plot. Between the a lower density also visible which sould be the green valley.\n",
    "\n",
    "\n",
    "<img src=\"https://upload.wikimedia.org/wikipedia/commons/9/96/Galaxy_color-magnitude_diagram-en.svg\" alt=\"https://upload.wikimedia.org/wikipedia/commons/9/96/Galaxy_color-magnitude_diagram-en.svg\" width=\"500\" />\n"
   ]
  },
  {
   "cell_type": "markdown",
   "metadata": {},
   "source": [
    "---\n",
    "# Task 3 - SOLVE IN PYTHON.\n",
    "- To get slightly familiar with the Schema Browser and basic functions, check the PhotoObj view! Search which parameter stores \"flags\" and how to access them! (Find the appropriate function in the Schema Browser, the correct syntax will be also there.)\n",
    "- Individual photographs (called \"fields\") containing several astronomical objects are defined by three parameters in SDSS: \"run\", \"camcol\" and \"field\". In the field 752-5-517 (run-camcol-field), check what percentage of observed objects have the \"EDGE\" flags appended to them.\n",
    "- Upload the final SQL code(s) and the final percentage here!\n",
    "\n",
    "See [Schema Browser here](https://skyserver.sdss.org/dr18/MoreTools/browser?)."
   ]
  },
  {
   "cell_type": "code",
   "execution_count": 5,
   "metadata": {},
   "outputs": [
    {
     "name": "stdout",
     "output_type": "stream",
     "text": [
      "the value of EDGE_MASK=0x0000000000000004\n"
     ]
    }
   ],
   "source": [
    "run = 752\n",
    "camcol = 5\n",
    "field = 517\n",
    "\n",
    "EDGE_MASK = CasJobs.executeQuery(sql=f'''\n",
    "    SELECT value\n",
    "    FROM PhotoFlags\n",
    "    WHERE name='EDGE'\n",
    "''', context=context, format='pandas').squeeze()\n",
    "print(f'the value of EDGE_MASK={EDGE_MASK}')"
   ]
  },
  {
   "cell_type": "code",
   "execution_count": 6,
   "metadata": {},
   "outputs": [
    {
     "data": {
      "text/html": [
       "<div>\n",
       "<style scoped>\n",
       "    .dataframe tbody tr th:only-of-type {\n",
       "        vertical-align: middle;\n",
       "    }\n",
       "\n",
       "    .dataframe tbody tr th {\n",
       "        vertical-align: top;\n",
       "    }\n",
       "\n",
       "    .dataframe thead th {\n",
       "        text-align: right;\n",
       "    }\n",
       "</style>\n",
       "<table border=\"1\" class=\"dataframe\">\n",
       "  <thead>\n",
       "    <tr style=\"text-align: right;\">\n",
       "      <th></th>\n",
       "      <th>total_objects</th>\n",
       "      <th>edge_objects</th>\n",
       "      <th>percentage</th>\n",
       "    </tr>\n",
       "  </thead>\n",
       "  <tbody>\n",
       "    <tr>\n",
       "      <th>0</th>\n",
       "      <td>1089</td>\n",
       "      <td>16</td>\n",
       "      <td>0.014692</td>\n",
       "    </tr>\n",
       "  </tbody>\n",
       "</table>\n",
       "</div>"
      ],
      "text/plain": [
       "   total_objects  edge_objects  percentage\n",
       "0           1089            16    0.014692"
      ]
     },
     "execution_count": 6,
     "metadata": {},
     "output_type": "execute_result"
    }
   ],
   "source": [
    "df3 = CasJobs.executeQuery(sql=f'''\n",
    "    SELECT\n",
    "        COUNT(*) AS total_objects,\n",
    "        SUM(CASE WHEN (flags & {EDGE_MASK}) = {EDGE_MASK} THEN 1 ELSE 0 END) AS edge_objects,\n",
    "        CAST(SUM(CASE WHEN (flags & {EDGE_MASK}) = {EDGE_MASK} THEN 1 ELSE 0 END) AS FLOAT) / COUNT(*) AS percentage\n",
    "    FROM PhotoObj\n",
    "    WHERE run = {run} \n",
    "      AND camcol = {camcol} \n",
    "      AND field = {field}\n",
    "''', context=context, format='pandas')\n",
    "df3"
   ]
  }
 ],
 "metadata": {
  "kernelspec": {
   "display_name": "Python 3.8 (py38)",
   "language": "python",
   "name": "py38"
  },
  "language_info": {
   "codemirror_mode": {
    "name": "ipython",
    "version": 3
   },
   "file_extension": ".py",
   "mimetype": "text/x-python",
   "name": "python",
   "nbconvert_exporter": "python",
   "pygments_lexer": "ipython3",
   "version": "3.8.5"
  }
 },
 "nbformat": 4,
 "nbformat_minor": 5
}
