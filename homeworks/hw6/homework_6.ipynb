{
 "cells": [
  {
   "cell_type": "markdown",
   "id": "c9d472a2",
   "metadata": {},
   "source": [
    "# Homework 6 --- Neo4j\n",
    "## Balázs Menkó (O67UT7)\n"
   ]
  },
  {
   "cell_type": "markdown",
   "id": "31c41546",
   "metadata": {},
   "source": [
    "---\n",
    "# Task 1\n",
    "Fill in missing values of “Revenue (Millions)” for movies with random values [0, 10)."
   ]
  },
  {
   "cell_type": "markdown",
   "id": "73cd8dd5",
   "metadata": {},
   "source": [
    "```cypher\n",
    "MATCH (m:Movie)\n",
    "WHERE m.Revenue IS NULL\n",
    "SET m.Revenue = rand() * 10\n",
    "RETURN m.Title, m.Revenue\n",
    "```"
   ]
  },
  {
   "cell_type": "markdown",
   "id": "3d53946b",
   "metadata": {},
   "source": [
    "---\n",
    "# Task 2\n",
    "Calculate average Revenue of movies directed by directors."
   ]
  },
  {
   "cell_type": "markdown",
   "id": "b7ece2a6",
   "metadata": {},
   "source": [
    "```cypher\n",
    "MATCH (m:Movie)\n",
    "WITH m.Director AS director, avg(m.Revenue) AS avgRevenue\n",
    "RETURN director, avgRevenue\n",
    "ORDER BY avgRevenue DESC\n",
    "```"
   ]
  },
  {
   "cell_type": "markdown",
   "id": "87530aa9",
   "metadata": {},
   "source": [
    "---\n",
    "# Task 3\n",
    "Create “COSTARRED” relationships between movies sharing the same lead actors. (Don’t forget to handle multiple edges.)"
   ]
  },
  {
   "cell_type": "markdown",
   "id": "17138fde",
   "metadata": {},
   "source": [
    "```cypher\n",
    "MATCH (m:Movie)\n",
    "WITH m, split(m.Actors, \", \") AS actorNames\n",
    "UNWIND actorNames AS actorName\n",
    "MERGE (a:Actor {name: actorName})\n",
    "MERGE (m)-[:FEATURES]->(a);\n",
    "```\n",
    "\n",
    "```cypher\n",
    "MATCH (m1:Movie)-[:FEATURES]->(a:Actor)<-[:FEATURES]-(m2:Movie)\n",
    "WHERE m1.Title < m2.Title \n",
    "MERGE (m1)-[:COSTARRED]->(m2);\n",
    "```\n",
    "\n",
    "### Graph visualisation\n",
    "![task_3_a.png](task_3_a.png)\n",
    "![task_3_b.png](task_3_b.png)\n"
   ]
  },
  {
   "cell_type": "markdown",
   "id": "9a04e11e",
   "metadata": {},
   "source": [
    "---\n",
    "# Task 4\n",
    "List the top 20 pairs of movies by the number of matching people (!!) who worked on them."
   ]
  },
  {
   "cell_type": "markdown",
   "id": "32d4324e",
   "metadata": {},
   "source": [
    "```cypher\n",
    "MATCH (m1:Movie)-[:FEATURES]->(a:Actor)<-[:FEATURES]-(m2:Movie)\n",
    "WHERE m1 <> m2\n",
    "WITH m1, m2, count(a) AS sharedActors\n",
    "ORDER BY sharedActors DESC\n",
    "LIMIT 20\n",
    "RETURN m1.Title AS Movie1, m2.Title AS Movie2, sharedActors\n",
    "```"
   ]
  },
  {
   "cell_type": "markdown",
   "id": "1da11c3a",
   "metadata": {},
   "source": [
    "---\n",
    "# Task 5\n",
    "Gather the set (!!) of people who worked on the top 10 highest grossing movies."
   ]
  },
  {
   "cell_type": "markdown",
   "id": "d8787240",
   "metadata": {},
   "source": [
    "```cypher\n",
    "MATCH (m:Movie)\n",
    "ORDER BY m.Revenue DESC\n",
    "LIMIT 10\n",
    "MATCH (m)-[:FEATURES]->(a:Actor)\n",
    "RETURN DISTINCT a.name AS Actor\n",
    "```"
   ]
  },
  {
   "cell_type": "markdown",
   "id": "a3ec9f73",
   "metadata": {},
   "source": [
    "---\n",
    "# Task 6\n",
    "Gather the set of actors who produced any movie in 2010-2011."
   ]
  },
  {
   "cell_type": "markdown",
   "id": "eb2e2c66",
   "metadata": {},
   "source": [
    "```cypher\n",
    "MATCH (m:Movie)\n",
    "WHERE m.Year >= 2010 AND m.Year <= 2011\n",
    "MATCH (m)-[:FEATURES]->(a:Actor)\n",
    "RETURN DISTINCT a.name AS Actor\n",
    "```"
   ]
  }
 ],
 "metadata": {
  "kernelspec": {
   "display_name": "Python 3 (ipykernel)",
   "language": "python",
   "name": "python3"
  },
  "language_info": {
   "codemirror_mode": {
    "name": "ipython",
    "version": 3
   },
   "file_extension": ".py",
   "mimetype": "text/x-python",
   "name": "python",
   "nbconvert_exporter": "python",
   "pygments_lexer": "ipython3",
   "version": "3.12.2"
  }
 },
 "nbformat": 4,
 "nbformat_minor": 5
}
